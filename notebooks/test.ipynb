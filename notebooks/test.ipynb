{
 "cells": [
  {
   "cell_type": "code",
   "execution_count": 4,
   "metadata": {},
   "outputs": [
    {
     "name": "stdout",
     "output_type": "stream",
     "text": [
      "0 /dev/cu.Bluetooth-Incoming-Port - n/a\n",
      "1 /dev/cu.usbmodem14503 - TWIGACam\n"
     ]
    },
    {
     "data": {
      "text/plain": [
       "'/dev/cu.usbmodem14503'"
      ]
     },
     "execution_count": 4,
     "metadata": {},
     "output_type": "execute_result"
    }
   ],
   "source": [
    "import re\n",
    "import binascii\n",
    "import numpy as np\n",
    "from dataclasses import dataclass, field\n",
    "from serial.tools import list_ports, list_ports_common\n",
    "import cv2\n",
    "import serial\n",
    "import time\n",
    "\n",
    "from Camera import Camera\n",
    "\n",
    "\n",
    "def getDevicePort(vid=\"04b4\", pid=\"00f9\"):\n",
    "    devices = list_ports.comports()\n",
    "    for i, device in enumerate(devices):\n",
    "        print(i, device)\n",
    "        if (device.vid != None or device.pid != None):\n",
    "            vid_pid = f\"{'{:04X}'.format(device.vid).lower()}:{'{:04X}'.format(device.pid).lower()}\" \n",
    "            if(vid_pid == f\"{vid}:{pid}\"):\n",
    "                return device.device\n",
    "            else:\n",
    "                return None\n",
    "\n",
    "getDevicePort()\n",
    "\n",
    "# SONY FCV-EC7520\n",
    "#cam = Camera(vid=\"04b4\", pid=\"00f9\")"
   ]
  },
  {
   "cell_type": "code",
   "execution_count": 376,
   "metadata": {},
   "outputs": [],
   "source": [
    "def add_leading_zeros(input_str):\n",
    "    return f\"{'0' * max(0, 4 - len(input_str))}{input_str}\"\n",
    "\n",
    "zoom_positions = [\n",
    "    add_leading_zeros(\"0\") if a == 0 \n",
    "    else add_leading_zeros(hex(a-1).split(\"x\")[1]) \n",
    "    for a in range(0, 16386, 565)\n",
    "    ]\n",
    "\n",
    "def getZoom(position):\n",
    "    zoom = zoom_positions[position-1]\n",
    "    return [z for z in zoom]\n",
    "\n"
   ]
  },
  {
   "cell_type": "code",
   "execution_count": 8,
   "metadata": {},
   "outputs": [],
   "source": [
    "def returnCameraIndexes():\n",
    "    # checks the first 10 indexes.\n",
    "    index = 0\n",
    "    arr = []\n",
    "    i = 10\n",
    "    while i > 0:\n",
    "        cap = cv2.VideoCapture(index)\n",
    "        if cap.read()[0]:\n",
    "            arr.append(index)\n",
    "            cap.release()\n",
    "        index += 1\n",
    "        i -= 1\n",
    "    return arr\n"
   ]
  },
  {
   "cell_type": "code",
   "execution_count": 1,
   "metadata": {},
   "outputs": [],
   "source": [
    "from Camera import Camera\n",
    "import cv2 \n",
    "\n",
    "camera = Camera(vid=\"04b4\", pid=\"00f9\")\n"
   ]
  },
  {
   "cell_type": "code",
   "execution_count": 7,
   "metadata": {},
   "outputs": [
    {
     "name": "stdout",
     "output_type": "stream",
     "text": [
      "Response: b'\\x90Q\\xff\\x90A\\xff'\n"
     ]
    },
    {
     "data": {
      "text/plain": [
       "b'\\x90Q\\xff\\x90A\\xff'"
      ]
     },
     "execution_count": 7,
     "metadata": {},
     "output_type": "execute_result"
    }
   ],
   "source": [
    "camera.zoom(1)"
   ]
  },
  {
   "cell_type": "code",
   "execution_count": 6,
   "metadata": {},
   "outputs": [
    {
     "data": {
      "text/plain": [
       "True"
      ]
     },
     "execution_count": 6,
     "metadata": {},
     "output_type": "execute_result"
    }
   ],
   "source": [
    "ret, frame = camera.stream.read()\n",
    "cv2.imwrite(\"./cam.jpg\", frame)\n"
   ]
  },
  {
   "cell_type": "code",
   "execution_count": 2,
   "metadata": {},
   "outputs": [
    {
     "name": "stdout",
     "output_type": "stream",
     "text": [
      "0\n",
      "1\n",
      "2\n",
      "3\n",
      "4\n"
     ]
    }
   ],
   "source": [
    "import cv2\n",
    "for i in range(0,5):\n",
    "    print(i)\n",
    "    cap = cv2.VideoCapture(i, cv2.CAP_V4L2)\n",
    "    if cap.isOpened():\n",
    "        properties = cap.get(cv2.CAP_PROP_FOURCC), cap.get(cv2.CAP_PROP_V4L2_PIX_FMT)\n",
    "        print(properties)\n",
    "    else:\n",
    "        cap.release()\n"
   ]
  },
  {
   "cell_type": "code",
   "execution_count": 2,
   "metadata": {},
   "outputs": [
    {
     "data": {
      "text/plain": [
       "True"
      ]
     },
     "execution_count": 2,
     "metadata": {},
     "output_type": "execute_result"
    }
   ],
   "source": [
    "import cv2\n",
    "cap = cv2.VideoCapture(0)\n",
    "cap.isOpened()\n",
    "ret, frame = cap.read()\n",
    "cv2.imwrite(\"./cam.jpg\", frame)"
   ]
  },
  {
   "cell_type": "code",
   "execution_count": 3,
   "metadata": {},
   "outputs": [],
   "source": [
    "import matplotlib.pyplot as plt\n"
   ]
  },
  {
   "cell_type": "code",
   "execution_count": 5,
   "metadata": {},
   "outputs": [],
   "source": [
    "cap.release()"
   ]
  },
  {
   "cell_type": "code",
   "execution_count": 10,
   "metadata": {},
   "outputs": [],
   "source": [
    "def get_camera_by_id(vendor_id, product_id):\n",
    "    # Get the list of available cameras\n",
    "    camera_list = []\n",
    "    for i in range(4):  # You can adjust the range as needed\n",
    "        cap = cv2.VideoCapture(i)\n",
    "        if cap.isOpened():\n",
    "            camera_list.append(i)\n",
    "            cap.release()\n",
    "\n",
    "    # Check each camera for the specified vendor and product IDs\n",
    "    for cam_id in camera_list:\n",
    "        cap = cv2.VideoCapture(cam_id)\n",
    "        if cap.isOpened():\n",
    "            # Get the camera properties\n",
    "            properties = cap.get(cv2.CAP_PROP_FOURCC), cap.get(cv2.CAP_PROP_V4L2_PIX_FMT)\n",
    "\n",
    "            # Check if the camera matches the specified IDs\n",
    "            if properties == (vendor_id, product_id):\n",
    "                print(f\"Camera found with Vendor ID {vendor_id} and Product ID {product_id} at index {cam_id}\")\n",
    "                return cam_id\n",
    "\n",
    "            cap.release()\n",
    "\n",
    "    print(f\"Camera with Vendor ID {vendor_id} and Product ID {product_id} not found.\")\n",
    "    return None"
   ]
  },
  {
   "cell_type": "code",
   "execution_count": null,
   "metadata": {},
   "outputs": [],
   "source": []
  }
 ],
 "metadata": {
  "kernelspec": {
   "display_name": "venv3.10",
   "language": "python",
   "name": "python3"
  },
  "language_info": {
   "codemirror_mode": {
    "name": "ipython",
    "version": 3
   },
   "file_extension": ".py",
   "mimetype": "text/x-python",
   "name": "python",
   "nbconvert_exporter": "python",
   "pygments_lexer": "ipython3",
   "version": "3.10.13"
  }
 },
 "nbformat": 4,
 "nbformat_minor": 2
}
