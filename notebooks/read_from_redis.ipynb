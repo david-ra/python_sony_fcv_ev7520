{
 "cells": [
  {
   "cell_type": "code",
   "execution_count": 2,
   "metadata": {},
   "outputs": [],
   "source": [
    "import redis \n",
    "import cv2\n",
    "import numpy as np\n",
    "import os\n",
    "import redis\n",
    "import matplotlib.pyplot as plt\n",
    "\n",
    "# read environment variables\n",
    "from dotenv import load_dotenv\n",
    "load_dotenv()\n",
    "\n",
    "redis_cli = redis.StrictRedis(\n",
    "    host=os.environ[\"REDIS_HOST\"],\n",
    "    port=int(os.environ[\"REDIS_PORT\"]),\n",
    "    password=os.environ[\"REDIS_PASSWORD\"])\n",
    "\n",
    "\n",
    "numpy_bytes = redis_cli.get(\"camera_0\")\n",
    "\n",
    "decoded = np.frombuffer(numpy_bytes, dtype=np.uint8).reshape((720, 1280, 3))"
   ]
  },
  {
   "cell_type": "code",
   "execution_count": 8,
   "metadata": {},
   "outputs": [],
   "source": [
    "numpy_bytes = redis_cli.get(\"camera_0\")\n",
    "\n",
    "decoded = np.frombuffer(numpy_bytes, dtype=np.uint8).reshape((720, 1280, 3))"
   ]
  },
  {
   "cell_type": "code",
   "execution_count": 9,
   "metadata": {},
   "outputs": [
    {
     "data": {
      "text/plain": [
       "True"
      ]
     },
     "execution_count": 9,
     "metadata": {},
     "output_type": "execute_result"
    }
   ],
   "source": [
    "cv2.imwrite(\"./cam.jpg\", decoded)"
   ]
  },
  {
   "cell_type": "code",
   "execution_count": null,
   "metadata": {},
   "outputs": [],
   "source": []
  }
 ],
 "metadata": {
  "kernelspec": {
   "display_name": "venv3.10",
   "language": "python",
   "name": "python3"
  },
  "language_info": {
   "codemirror_mode": {
    "name": "ipython",
    "version": 3
   },
   "file_extension": ".py",
   "mimetype": "text/x-python",
   "name": "python",
   "nbconvert_exporter": "python",
   "pygments_lexer": "ipython3",
   "version": "3.10.13"
  }
 },
 "nbformat": 4,
 "nbformat_minor": 2
}
